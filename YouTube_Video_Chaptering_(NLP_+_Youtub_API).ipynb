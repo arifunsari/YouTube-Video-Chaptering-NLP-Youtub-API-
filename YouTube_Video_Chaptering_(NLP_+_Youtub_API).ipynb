{
  "nbformat": 4,
  "nbformat_minor": 0,
  "metadata": {
    "colab": {
      "provenance": [],
      "authorship_tag": "ABX9TyN3uoQkdIfZa/Ho9uSDNZUL",
      "include_colab_link": true
    },
    "kernelspec": {
      "name": "python3",
      "display_name": "Python 3"
    },
    "language_info": {
      "name": "python"
    }
  },
  "cells": [
    {
      "cell_type": "markdown",
      "metadata": {
        "id": "view-in-github",
        "colab_type": "text"
      },
      "source": [
        "<a href=\"https://colab.research.google.com/github/arifunsari/YouTube-Video-Chaptering-NLP-Youtub-API-/blob/main/YouTube_Video_Chaptering_(NLP_%2B_Youtub_API).ipynb\" target=\"_parent\"><img src=\"https://colab.research.google.com/assets/colab-badge.svg\" alt=\"Open In Colab\"/></a>"
      ]
    },
    {
      "cell_type": "code",
      "execution_count": null,
      "metadata": {
        "id": "uUWyqOCVRUZ-"
      },
      "outputs": [],
      "source": [
        "import re\n",
        "import csv\n",
        "import pandas as pd\n",
        "from googleapiclient.discovery import build\n",
        "from youtube_transcript_api import YouTubeTranscriptApi\n"
      ]
    },
    {
      "cell_type": "code",
      "source": [
        "#!pip install youtube_transcript_api"
      ],
      "metadata": {
        "id": "4SPEQHXJUxTO"
      },
      "execution_count": null,
      "outputs": []
    },
    {
      "cell_type": "code",
      "source": [
        "import re\n",
        "import csv\n",
        "import pandas as pd\n",
        "from googleapiclient.discovery import build\n",
        "from youtube_transcript_api import YouTubeTranscriptApi\n",
        "\n",
        "API_KEY = 'xxxxxxxxxxxxxxxxxxxxx' # Replace with your actual YouTube API key\n",
        "URL = 'https://youtu.be/CO4E_9V6li0?si=95xdsa0p52KJVxdy'\n",
        "\n",
        "def get_video_id(url):\n",
        "    \"\"\"Extract the video ID from a YouTube URL.\"\"\"\n",
        "    video_id_match = re.search(r'(?:v=|\\/)([0-9A-Za-z_-]{11})', url)\n",
        "    return video_id_match.group(1) if video_id_match else None\n",
        "\n",
        "def get_video_title(video_id):\n",
        "    \"\"\"Fetch the title of a YouTube video.\"\"\"\n",
        "    youtube = build('youtube', 'v3', developerKey=API_KEY)\n",
        "    request = youtube.videos().list(part='snippet', id=video_id)\n",
        "    response = request.execute()\n",
        "    if 'items' in response and response['items']:\n",
        "        return response['items'][0]['snippet']['title']\n",
        "    return 'Unknown Title'\n",
        "\n",
        "def get_video_transcript(video_id):\n",
        "    \"\"\"Fetch transcript using YouTubeTranscriptApi.\"\"\"\n",
        "    try:\n",
        "        return YouTubeTranscriptApi.get_transcript(video_id)\n",
        "    except Exception as e:\n",
        "        print(f\"Error fetching transcript: {e}\")\n",
        "        return []\n",
        "\n",
        "def save_to_csv(title, transcript, filename):\n",
        "    \"\"\"Save transcript and video title to CSV.\"\"\"\n",
        "    transcript_data = [{'start': entry['start'], 'text': entry['text']} for entry in transcript]\n",
        "    df = pd.DataFrame(transcript_data)\n",
        "    df.to_csv(filename, index=False)\n",
        "\n",
        "    with open(filename, 'a', newline='', encoding='utf-8') as file:\n",
        "        writer = csv.writer(file)\n",
        "        writer.writerow([])\n",
        "        writer.writerow(['Video Title:', title])\n",
        "\n",
        "def main():\n",
        "    video_id = get_video_id(URL)\n",
        "    if not video_id:\n",
        "        print(\"Invalid URL format.\")\n",
        "        return\n",
        "\n",
        "    print(\"Getting title...\")\n",
        "    title = get_video_title(video_id)\n",
        "\n",
        "    print(\"Getting transcript...\")\n",
        "    transcript = get_video_transcript(video_id)\n",
        "\n",
        "    if not transcript:\n",
        "        print(\"Transcript not available.\")\n",
        "        return\n",
        "\n",
        "    filename = f\"{video_id}_transcript.csv\"\n",
        "    save_to_csv(title, transcript, filename)\n",
        "    print(f\"Transcript saved to {filename}\")\n",
        "\n",
        "if __name__ == '__main__':\n",
        "    main()\n"
      ],
      "metadata": {
        "colab": {
          "base_uri": "https://localhost:8080/"
        },
        "id": "vn3bJY_-VQi0",
        "outputId": "6d983d4b-96ef-4766-9b82-f7b569760348"
      },
      "execution_count": null,
      "outputs": [
        {
          "output_type": "stream",
          "name": "stdout",
          "text": [
            "Getting title...\n",
            "Getting transcript...\n",
            "Transcript saved to CO4E_9V6li0_transcript.csv\n"
          ]
        }
      ]
    },
    {
      "cell_type": "code",
      "source": [
        "import pandas as pd\n",
        "import numpy as np\n",
        "import matplotlib.pyplot as plt\n",
        "from sklearn.feature_extraction.text import CountVectorizer\n",
        "from sklearn.decomposition import LatentDirichletAllocation\n"
      ],
      "metadata": {
        "id": "rbeeKpKcV7LX"
      },
      "execution_count": null,
      "outputs": []
    },
    {
      "cell_type": "code",
      "source": [
        "transcript_df = pd.read_csv(\"/content/CO4E_9V6li0_transcript.csv\")\n",
        "print(transcript_df)"
      ],
      "metadata": {
        "colab": {
          "base_uri": "https://localhost:8080/"
        },
        "id": "rXJGbZG0YfRW",
        "outputId": "efda38d7-5618-4a9e-cff4-c4b9929633fb"
      },
      "execution_count": null,
      "outputs": [
        {
          "output_type": "stream",
          "name": "stdout",
          "text": [
            "            start                                               text\n",
            "0            0.04                 today we are going to build end to\n",
            "1           1.599               endend llm project called cold email\n",
            "2             4.2           generator using Lama 3.1 open source llm\n",
            "3            8.12            we will also use chrom ADB Vector store\n",
            "4            10.4              Lang chain and streamlet let us first\n",
            "..            ...                                                ...\n",
            "828       2440.64             share it with your friends if you have\n",
            "829      2442.319                any question there is a comment box\n",
            "830       2443.92                                              below\n",
            "831       2448.32                                            [Music]\n",
            "832  Video Title:  Gen AI Project Using Llama3.1 | End to End Gen...\n",
            "\n",
            "[833 rows x 2 columns]\n"
          ]
        }
      ]
    },
    {
      "cell_type": "code",
      "source": [
        "transcript_df.head()"
      ],
      "metadata": {
        "colab": {
          "base_uri": "https://localhost:8080/",
          "height": 206
        },
        "id": "wHmwyiLEY5iM",
        "outputId": "3d219489-a595-458d-ad12-993e5a201ade"
      },
      "execution_count": null,
      "outputs": [
        {
          "output_type": "execute_result",
          "data": {
            "text/plain": [
              "   start                                      text\n",
              "0   0.04        today we are going to build end to\n",
              "1  1.599      endend llm project called cold email\n",
              "2    4.2  generator using Lama 3.1 open source llm\n",
              "3   8.12   we will also use chrom ADB Vector store\n",
              "4   10.4     Lang chain and streamlet let us first"
            ],
            "text/html": [
              "\n",
              "  <div id=\"df-f0a8f764-5660-4779-b857-980ad77212b9\" class=\"colab-df-container\">\n",
              "    <div>\n",
              "<style scoped>\n",
              "    .dataframe tbody tr th:only-of-type {\n",
              "        vertical-align: middle;\n",
              "    }\n",
              "\n",
              "    .dataframe tbody tr th {\n",
              "        vertical-align: top;\n",
              "    }\n",
              "\n",
              "    .dataframe thead th {\n",
              "        text-align: right;\n",
              "    }\n",
              "</style>\n",
              "<table border=\"1\" class=\"dataframe\">\n",
              "  <thead>\n",
              "    <tr style=\"text-align: right;\">\n",
              "      <th></th>\n",
              "      <th>start</th>\n",
              "      <th>text</th>\n",
              "    </tr>\n",
              "  </thead>\n",
              "  <tbody>\n",
              "    <tr>\n",
              "      <th>0</th>\n",
              "      <td>0.04</td>\n",
              "      <td>today we are going to build end to</td>\n",
              "    </tr>\n",
              "    <tr>\n",
              "      <th>1</th>\n",
              "      <td>1.599</td>\n",
              "      <td>endend llm project called cold email</td>\n",
              "    </tr>\n",
              "    <tr>\n",
              "      <th>2</th>\n",
              "      <td>4.2</td>\n",
              "      <td>generator using Lama 3.1 open source llm</td>\n",
              "    </tr>\n",
              "    <tr>\n",
              "      <th>3</th>\n",
              "      <td>8.12</td>\n",
              "      <td>we will also use chrom ADB Vector store</td>\n",
              "    </tr>\n",
              "    <tr>\n",
              "      <th>4</th>\n",
              "      <td>10.4</td>\n",
              "      <td>Lang chain and streamlet let us first</td>\n",
              "    </tr>\n",
              "  </tbody>\n",
              "</table>\n",
              "</div>\n",
              "    <div class=\"colab-df-buttons\">\n",
              "\n",
              "  <div class=\"colab-df-container\">\n",
              "    <button class=\"colab-df-convert\" onclick=\"convertToInteractive('df-f0a8f764-5660-4779-b857-980ad77212b9')\"\n",
              "            title=\"Convert this dataframe to an interactive table.\"\n",
              "            style=\"display:none;\">\n",
              "\n",
              "  <svg xmlns=\"http://www.w3.org/2000/svg\" height=\"24px\" viewBox=\"0 -960 960 960\">\n",
              "    <path d=\"M120-120v-720h720v720H120Zm60-500h600v-160H180v160Zm220 220h160v-160H400v160Zm0 220h160v-160H400v160ZM180-400h160v-160H180v160Zm440 0h160v-160H620v160ZM180-180h160v-160H180v160Zm440 0h160v-160H620v160Z\"/>\n",
              "  </svg>\n",
              "    </button>\n",
              "\n",
              "  <style>\n",
              "    .colab-df-container {\n",
              "      display:flex;\n",
              "      gap: 12px;\n",
              "    }\n",
              "\n",
              "    .colab-df-convert {\n",
              "      background-color: #E8F0FE;\n",
              "      border: none;\n",
              "      border-radius: 50%;\n",
              "      cursor: pointer;\n",
              "      display: none;\n",
              "      fill: #1967D2;\n",
              "      height: 32px;\n",
              "      padding: 0 0 0 0;\n",
              "      width: 32px;\n",
              "    }\n",
              "\n",
              "    .colab-df-convert:hover {\n",
              "      background-color: #E2EBFA;\n",
              "      box-shadow: 0px 1px 2px rgba(60, 64, 67, 0.3), 0px 1px 3px 1px rgba(60, 64, 67, 0.15);\n",
              "      fill: #174EA6;\n",
              "    }\n",
              "\n",
              "    .colab-df-buttons div {\n",
              "      margin-bottom: 4px;\n",
              "    }\n",
              "\n",
              "    [theme=dark] .colab-df-convert {\n",
              "      background-color: #3B4455;\n",
              "      fill: #D2E3FC;\n",
              "    }\n",
              "\n",
              "    [theme=dark] .colab-df-convert:hover {\n",
              "      background-color: #434B5C;\n",
              "      box-shadow: 0px 1px 3px 1px rgba(0, 0, 0, 0.15);\n",
              "      filter: drop-shadow(0px 1px 2px rgba(0, 0, 0, 0.3));\n",
              "      fill: #FFFFFF;\n",
              "    }\n",
              "  </style>\n",
              "\n",
              "    <script>\n",
              "      const buttonEl =\n",
              "        document.querySelector('#df-f0a8f764-5660-4779-b857-980ad77212b9 button.colab-df-convert');\n",
              "      buttonEl.style.display =\n",
              "        google.colab.kernel.accessAllowed ? 'block' : 'none';\n",
              "\n",
              "      async function convertToInteractive(key) {\n",
              "        const element = document.querySelector('#df-f0a8f764-5660-4779-b857-980ad77212b9');\n",
              "        const dataTable =\n",
              "          await google.colab.kernel.invokeFunction('convertToInteractive',\n",
              "                                                    [key], {});\n",
              "        if (!dataTable) return;\n",
              "\n",
              "        const docLinkHtml = 'Like what you see? Visit the ' +\n",
              "          '<a target=\"_blank\" href=https://colab.research.google.com/notebooks/data_table.ipynb>data table notebook</a>'\n",
              "          + ' to learn more about interactive tables.';\n",
              "        element.innerHTML = '';\n",
              "        dataTable['output_type'] = 'display_data';\n",
              "        await google.colab.output.renderOutput(dataTable, element);\n",
              "        const docLink = document.createElement('div');\n",
              "        docLink.innerHTML = docLinkHtml;\n",
              "        element.appendChild(docLink);\n",
              "      }\n",
              "    </script>\n",
              "  </div>\n",
              "\n",
              "\n",
              "    <div id=\"df-f338b278-9791-4b1f-9dcb-dd16f8460a43\">\n",
              "      <button class=\"colab-df-quickchart\" onclick=\"quickchart('df-f338b278-9791-4b1f-9dcb-dd16f8460a43')\"\n",
              "                title=\"Suggest charts\"\n",
              "                style=\"display:none;\">\n",
              "\n",
              "<svg xmlns=\"http://www.w3.org/2000/svg\" height=\"24px\"viewBox=\"0 0 24 24\"\n",
              "     width=\"24px\">\n",
              "    <g>\n",
              "        <path d=\"M19 3H5c-1.1 0-2 .9-2 2v14c0 1.1.9 2 2 2h14c1.1 0 2-.9 2-2V5c0-1.1-.9-2-2-2zM9 17H7v-7h2v7zm4 0h-2V7h2v10zm4 0h-2v-4h2v4z\"/>\n",
              "    </g>\n",
              "</svg>\n",
              "      </button>\n",
              "\n",
              "<style>\n",
              "  .colab-df-quickchart {\n",
              "      --bg-color: #E8F0FE;\n",
              "      --fill-color: #1967D2;\n",
              "      --hover-bg-color: #E2EBFA;\n",
              "      --hover-fill-color: #174EA6;\n",
              "      --disabled-fill-color: #AAA;\n",
              "      --disabled-bg-color: #DDD;\n",
              "  }\n",
              "\n",
              "  [theme=dark] .colab-df-quickchart {\n",
              "      --bg-color: #3B4455;\n",
              "      --fill-color: #D2E3FC;\n",
              "      --hover-bg-color: #434B5C;\n",
              "      --hover-fill-color: #FFFFFF;\n",
              "      --disabled-bg-color: #3B4455;\n",
              "      --disabled-fill-color: #666;\n",
              "  }\n",
              "\n",
              "  .colab-df-quickchart {\n",
              "    background-color: var(--bg-color);\n",
              "    border: none;\n",
              "    border-radius: 50%;\n",
              "    cursor: pointer;\n",
              "    display: none;\n",
              "    fill: var(--fill-color);\n",
              "    height: 32px;\n",
              "    padding: 0;\n",
              "    width: 32px;\n",
              "  }\n",
              "\n",
              "  .colab-df-quickchart:hover {\n",
              "    background-color: var(--hover-bg-color);\n",
              "    box-shadow: 0 1px 2px rgba(60, 64, 67, 0.3), 0 1px 3px 1px rgba(60, 64, 67, 0.15);\n",
              "    fill: var(--button-hover-fill-color);\n",
              "  }\n",
              "\n",
              "  .colab-df-quickchart-complete:disabled,\n",
              "  .colab-df-quickchart-complete:disabled:hover {\n",
              "    background-color: var(--disabled-bg-color);\n",
              "    fill: var(--disabled-fill-color);\n",
              "    box-shadow: none;\n",
              "  }\n",
              "\n",
              "  .colab-df-spinner {\n",
              "    border: 2px solid var(--fill-color);\n",
              "    border-color: transparent;\n",
              "    border-bottom-color: var(--fill-color);\n",
              "    animation:\n",
              "      spin 1s steps(1) infinite;\n",
              "  }\n",
              "\n",
              "  @keyframes spin {\n",
              "    0% {\n",
              "      border-color: transparent;\n",
              "      border-bottom-color: var(--fill-color);\n",
              "      border-left-color: var(--fill-color);\n",
              "    }\n",
              "    20% {\n",
              "      border-color: transparent;\n",
              "      border-left-color: var(--fill-color);\n",
              "      border-top-color: var(--fill-color);\n",
              "    }\n",
              "    30% {\n",
              "      border-color: transparent;\n",
              "      border-left-color: var(--fill-color);\n",
              "      border-top-color: var(--fill-color);\n",
              "      border-right-color: var(--fill-color);\n",
              "    }\n",
              "    40% {\n",
              "      border-color: transparent;\n",
              "      border-right-color: var(--fill-color);\n",
              "      border-top-color: var(--fill-color);\n",
              "    }\n",
              "    60% {\n",
              "      border-color: transparent;\n",
              "      border-right-color: var(--fill-color);\n",
              "    }\n",
              "    80% {\n",
              "      border-color: transparent;\n",
              "      border-right-color: var(--fill-color);\n",
              "      border-bottom-color: var(--fill-color);\n",
              "    }\n",
              "    90% {\n",
              "      border-color: transparent;\n",
              "      border-bottom-color: var(--fill-color);\n",
              "    }\n",
              "  }\n",
              "</style>\n",
              "\n",
              "      <script>\n",
              "        async function quickchart(key) {\n",
              "          const quickchartButtonEl =\n",
              "            document.querySelector('#' + key + ' button');\n",
              "          quickchartButtonEl.disabled = true;  // To prevent multiple clicks.\n",
              "          quickchartButtonEl.classList.add('colab-df-spinner');\n",
              "          try {\n",
              "            const charts = await google.colab.kernel.invokeFunction(\n",
              "                'suggestCharts', [key], {});\n",
              "          } catch (error) {\n",
              "            console.error('Error during call to suggestCharts:', error);\n",
              "          }\n",
              "          quickchartButtonEl.classList.remove('colab-df-spinner');\n",
              "          quickchartButtonEl.classList.add('colab-df-quickchart-complete');\n",
              "        }\n",
              "        (() => {\n",
              "          let quickchartButtonEl =\n",
              "            document.querySelector('#df-f338b278-9791-4b1f-9dcb-dd16f8460a43 button');\n",
              "          quickchartButtonEl.style.display =\n",
              "            google.colab.kernel.accessAllowed ? 'block' : 'none';\n",
              "        })();\n",
              "      </script>\n",
              "    </div>\n",
              "\n",
              "    </div>\n",
              "  </div>\n"
            ],
            "application/vnd.google.colaboratory.intrinsic+json": {
              "type": "dataframe",
              "variable_name": "transcript_df",
              "summary": "{\n  \"name\": \"transcript_df\",\n  \"rows\": 833,\n  \"fields\": [\n    {\n      \"column\": \"start\",\n      \"properties\": {\n        \"dtype\": \"string\",\n        \"num_unique_values\": 833,\n        \"samples\": [\n          \"1786.799\",\n          \"2420.64\",\n          \"853.0\"\n        ],\n        \"semantic_type\": \"\",\n        \"description\": \"\"\n      }\n    },\n    {\n      \"column\": \"text\",\n      \"properties\": {\n        \"dtype\": \"string\",\n        \"num_unique_values\": 832,\n        \"samples\": [\n          \"app folder I will create a proper\",\n          \"based companies can use for their uh\",\n          \"comes first not only that if I say quer\"\n        ],\n        \"semantic_type\": \"\",\n        \"description\": \"\"\n      }\n    }\n  ]\n}"
            }
          },
          "metadata": {},
          "execution_count": 33
        }
      ]
    },
    {
      "cell_type": "code",
      "source": [
        "transcript_df['start'] = pd.to_numeric(transcript_df['start'], errors='coerce')\n",
        "\n",
        "print(\"Dataset Overview:\")\n",
        "print(transcript_df.info())\n",
        "print(\"\\nBasic Statistics:\")\n",
        "print(transcript_df.describe())"
      ],
      "metadata": {
        "colab": {
          "base_uri": "https://localhost:8080/"
        },
        "id": "OENNRR5OY91h",
        "outputId": "29d05153-144e-41c3-d387-ca553ec03bcf"
      },
      "execution_count": null,
      "outputs": [
        {
          "output_type": "stream",
          "name": "stdout",
          "text": [
            "Dataset Overview:\n",
            "<class 'pandas.core.frame.DataFrame'>\n",
            "RangeIndex: 833 entries, 0 to 832\n",
            "Data columns (total 2 columns):\n",
            " #   Column  Non-Null Count  Dtype  \n",
            "---  ------  --------------  -----  \n",
            " 0   start   832 non-null    float64\n",
            " 1   text    833 non-null    object \n",
            "dtypes: float64(1), object(1)\n",
            "memory usage: 13.1+ KB\n",
            "None\n",
            "\n",
            "Basic Statistics:\n",
            "             start\n",
            "count   832.000000\n",
            "mean   1225.570030\n",
            "std     712.471995\n",
            "min       0.040000\n",
            "25%     610.550000\n",
            "50%    1243.940000\n",
            "75%    1824.940000\n",
            "max    2448.320000\n"
          ]
        }
      ]
    },
    {
      "cell_type": "code",
      "source": [
        "#distribution of text lengths\n",
        "transcript_df['text_length'] = transcript_df['text'].apply(lambda x: len(str(x)))\n",
        "plt.figure(figsize=(10,5))\n",
        "plt.hist(transcript_df['text_length'], bins=50, color='blue')\n",
        "plt.title('Distribution of Text Lengths')\n",
        "plt.xlabel('Text Length')\n",
        "plt.ylabel('Frequency')\n",
        "plt.show()"
      ],
      "metadata": {
        "colab": {
          "base_uri": "https://localhost:8080/",
          "height": 487
        },
        "id": "RBes_Uj3ZQ6I",
        "outputId": "8feb8a25-a670-40a4-f535-a2bbd5d1016f"
      },
      "execution_count": null,
      "outputs": [
        {
          "output_type": "display_data",
          "data": {
            "text/plain": [
              "<Figure size 1000x500 with 1 Axes>"
            ],
            "image/png": "[encoded data removed]"
          },
          "metadata": {}
        }
      ]
    },
    {
      "cell_type": "code",
      "source": [
        "# most commmon words\n",
        "vectorizer = CountVectorizer(stop_words='english')\n",
        "word_counts = vectorizer.fit_transform(transcript_df['text'])\n",
        "word_counts_df = pd.DataFrame(word_counts.toarray(), columns=vectorizer.get_feature_names_out())\n",
        "common_words = word_counts_df.sum().sort_values(ascending=False).head(20)\n",
        "plt.figure(figsize=(10,5))\n",
        "common_words.plot(kind='bar', color='blue')\n",
        "plt.title('Top 20 Common Words')\n",
        "plt.xlabel('Words')\n",
        "plt.ylabel('Frequency')\n",
        "from sklearn.decomposition import NMF\n",
        "plt.show()"
      ],
      "metadata": {
        "colab": {
          "base_uri": "https://localhost:8080/",
          "height": 531
        },
        "id": "nN0KfZzHZ2LM",
        "outputId": "1f4220eb-83e4-4eef-c22f-471ebbfbd3a0"
      },
      "execution_count": null,
      "outputs": [
        {
          "output_type": "display_data",
          "data": {
            "text/plain": [
              "<Figure size 1000x500 with 1 Axes>"
            ],
            "image/png": "[encoded data removed]"
          },
          "metadata": {}
        }
      ]
    },
    {
      "cell_type": "code",
      "source": [
        "from sklearn.decomposition import NMF\n",
        "\n",
        "\n",
        "# topic Modeling using NMF\n",
        "n_features = 1000\n",
        "n_topics = 10\n",
        "n_top_words = 10\n",
        "\n",
        "tf_vectorizer = CountVectorizer(max_df=0.95, min_df=2, stop_words='english')\n",
        "tf = tf_vectorizer.fit_transform(transcript_df['text'])\n",
        "nmf = NMF(n_components=n_topics, random_state=42).fit(tf)\n",
        "tf_feature_names = tf_vectorizer.get_feature_names_out()\n",
        "\n",
        "def display_topics(model, feature_names, no_top_words):\n",
        "    topics = []\n",
        "    for topic_idx, topic in enumerate(model.components_):\n",
        "        topic_words = [feature_names[i] for i in topic.argsort()[:-no_top_words - 1:-1]]\n",
        "        topics.append(\" \".join(topic_words))\n",
        "    return topics\n",
        "\n",
        "topics = display_topics(nmf, tf_feature_names, n_top_words)\n",
        "print(\"\\nIdentified Topics:\")\n",
        "for i, topic in enumerate(topics):\n",
        "    print(f\"Topic {i + 1}: {topic}\")"
      ],
      "metadata": {
        "colab": {
          "base_uri": "https://localhost:8080/"
        },
        "id": "WgnWgb38aT96",
        "outputId": "dc5193ec-6a59-4a34-b7d0-14f7a40d6712"
      },
      "execution_count": null,
      "outputs": [
        {
          "output_type": "stream",
          "name": "stdout",
          "text": [
            "\n",
            "Identified Topics:\n",
            "Topic 1: uh using llm particular folder company video know st times\n",
            "Topic 2: okay new page don delhi key documents api description data\n",
            "Topic 3: portfolio csv links react load data read native app related\n",
            "Topic 4: just copy um python paste want let project json don\n",
            "Topic 5: use going client email environment llm persistent um tool companies\n",
            "Topic 6: job description posting extract llm link json lama skills role\n",
            "Topic 7: create folder db key chroma api called file going prompt\n",
            "Topic 8: chain install lang pip gro framework run email function basically\n",
            "Topic 9: code email created copy paste wrote notebook working cold going\n",
            "Topic 10: say let collection query run nike main json print id\n"
          ]
        }
      ]
    },
    {
      "cell_type": "code",
      "source": [
        "pip install nmf"
      ],
      "metadata": {
        "colab": {
          "base_uri": "https://localhost:8080/"
        },
        "id": "sqXcHlPNbWfM",
        "outputId": "0e054315-7629-46dc-90c0-fb74e286a406"
      },
      "execution_count": null,
      "outputs": [
        {
          "output_type": "stream",
          "name": "stdout",
          "text": [
            "Collecting nmf\n",
            "  Downloading nmf-0.0.6.tar.gz (3.9 kB)\n",
            "  Preparing metadata (setup.py) ... \u001b[?25l\u001b[?25hdone\n",
            "Requirement already satisfied: numpy>=1.12.1 in /usr/local/lib/python3.11/dist-packages (from nmf) (2.0.2)\n",
            "Requirement already satisfied: scikit-learn>=0.18.1 in /usr/local/lib/python3.11/dist-packages (from nmf) (1.6.1)\n",
            "Requirement already satisfied: scipy>=1.6.0 in /usr/local/lib/python3.11/dist-packages (from scikit-learn>=0.18.1->nmf) (1.15.3)\n",
            "Requirement already satisfied: joblib>=1.2.0 in /usr/local/lib/python3.11/dist-packages (from scikit-learn>=0.18.1->nmf) (1.5.0)\n",
            "Requirement already satisfied: threadpoolctl>=3.1.0 in /usr/local/lib/python3.11/dist-packages (from scikit-learn>=0.18.1->nmf) (3.6.0)\n",
            "Building wheels for collected packages: nmf\n",
            "  Building wheel for nmf (setup.py) ... \u001b[?25l\u001b[?25hdone\n",
            "  Created wheel for nmf: filename=nmf-0.0.6-py3-none-any.whl size=3256 sha256=b5ac60aa499e0f2fb8620ffaf916a865bd610cf1989572ae13b6fecebb32e46b\n",
            "  Stored in directory: /root/.cache/pip/wheels/41/5c/dd/924c7fd528a3ae1695625cccbf46263ae72d14e85080209877\n",
            "Successfully built nmf\n",
            "Installing collected packages: nmf\n",
            "Successfully installed nmf-0.0.6\n"
          ]
        }
      ]
    },
    {
      "cell_type": "code",
      "source": [
        "# get topic distribution for each text segment\n",
        "topic_distribution = nmf.transform(tf)\n",
        "\n",
        "# align the lengths by trimming the extra row in topic_distribution\n",
        "topic_distribution_trimmed = topic_distribution[:len(transcript_df)]\n",
        "\n",
        "# compute the dominant topic for each text segment\n",
        "transcript_df['dominant_topic'] = topic_distribution_trimmed.argmax(axis=1)"
      ],
      "metadata": {
        "id": "fX195pSKb8f4"
      },
      "execution_count": null,
      "outputs": []
    },
    {
      "cell_type": "code",
      "source": [
        "# analyze the content of each text segment to manually identify logical breaks\n",
        "logical_breaks = []\n",
        "\n",
        "for i in range(1, len(transcript_df)):\n",
        "    if transcript_df['dominant_topic'].iloc[i] != transcript_df['dominant_topic'].iloc[i - 1]:\n",
        "        logical_breaks.append(transcript_df['start'].iloc[i])"
      ],
      "metadata": {
        "id": "Jb4qbnKacYl1"
      },
      "execution_count": null,
      "outputs": []
    },
    {
      "cell_type": "code",
      "source": [
        "# consolidate the logical breaks into broader chapters\n",
        "threshold = 60  # seconds\n",
        "consolidated_breaks = []\n",
        "last_break = None\n",
        "\n",
        "for break_point in logical_breaks:\n",
        "    if last_break is None or break_point - last_break >= threshold:\n",
        "        consolidated_breaks.append(break_point)\n",
        "        last_break = break_point"
      ],
      "metadata": {
        "id": "oXhRbOJrciMX"
      },
      "execution_count": null,
      "outputs": []
    },
    {
      "cell_type": "code",
      "source": [
        "# merge consecutive breaks with the same dominant topic\n",
        "final_chapters = []\n",
        "last_chapter = (consolidated_breaks[0], transcript_df['dominant_topic'][0])\n",
        "\n",
        "for break_point in consolidated_breaks[1:]:\n",
        "    current_topic = transcript_df[transcript_df['start'] == break_point]['dominant_topic'].values[0]\n",
        "    if current_topic == last_chapter[1]:\n",
        "        last_chapter = (last_chapter[0], current_topic)\n",
        "    else:\n",
        "        final_chapters.append(last_chapter)\n",
        "        last_chapter = (break_point, current_topic)\n",
        "\n",
        "final_chapters.append(last_chapter)  # append the last chapter"
      ],
      "metadata": {
        "id": "oWslJ7jmcjwr"
      },
      "execution_count": null,
      "outputs": []
    },
    {
      "cell_type": "code",
      "source": [
        "from sklearn.feature_extraction.text import TfidfVectorizer\n",
        "\n",
        "# Convert the final chapters to a readable time format\n",
        "chapter_points = []\n",
        "chapter_names = []\n",
        "\n",
        "for i, (break_point, topic_idx) in enumerate(final_chapters):\n",
        "    chapter_time = pd.to_datetime(break_point, unit='s').strftime('%H:%M:%S')\n",
        "    chapter_points.append(chapter_time)\n",
        "\n",
        "    # get the context for the chapter name\n",
        "    chapter_text = transcript_df[(transcript_df['start'] >= break_point) & (transcript_df['dominant_topic'] == topic_idx)]['text'].str.cat(sep=' ')\n",
        "\n",
        "    # extract key phrases to create a chapter name\n",
        "    vectorizer = TfidfVectorizer(stop_words='english', max_features=3)\n",
        "    tfidf_matrix = vectorizer.fit_transform([chapter_text])\n",
        "    feature_names = vectorizer.get_feature_names_out()\n",
        "    chapter_name = \" \".join(feature_names)\n",
        "\n",
        "    chapter_names.append(f\"Chapter {i+1}: {chapter_name}\")\n",
        "\n",
        "# display the final chapter points with names\n",
        "print(\"\\nFinal Chapter Points with Names:\")\n",
        "for time, name in zip(chapter_points, chapter_names):\n",
        "    print(f\"{time} - {name}\")"
      ],
      "metadata": {
        "colab": {
          "base_uri": "https://localhost:8080/"
        },
        "id": "shdqKoW5cmBL",
        "outputId": "1badf0b4-e1c8-4997-8624-fec45a14f159"
      },
      "execution_count": null,
      "outputs": [
        {
          "output_type": "stream",
          "name": "stdout",
          "text": [
            "\n",
            "Final Chapter Points with Names:\n",
            "00:00:01 - Chapter 1: environment going use\n",
            "00:01:01 - Chapter 2: code database email\n",
            "00:02:03 - Chapter 3: environment going use\n",
            "00:03:03 - Chapter 4: just python um\n",
            "00:04:08 - Chapter 5: chain install lang\n",
            "00:05:13 - Chapter 6: company uh using\n",
            "00:06:15 - Chapter 7: just python um\n",
            "00:07:21 - Chapter 8: code database notebook\n",
            "00:08:28 - Chapter 9: create db folder\n",
            "00:10:32 - Chapter 10: chain function install\n",
            "00:11:39 - Chapter 11: let query say\n",
            "00:12:43 - Chapter 12: environment going use\n",
            "00:13:47 - Chapter 13: let query say\n",
            "00:15:49 - Chapter 14: environment going use\n",
            "00:16:49 - Chapter 15: data don okay\n",
            "00:17:55 - Chapter 16: let say text\n",
            "00:19:06 - Chapter 17: company uh using\n",
            "00:20:08 - Chapter 18: job json skills\n",
            "00:22:08 - Chapter 19: create db folder\n",
            "00:25:14 - Chapter 20: let py say\n",
            "00:26:18 - Chapter 21: chain function install\n",
            "00:27:21 - Chapter 22: links portfolio write\n",
            "00:28:21 - Chapter 23: create file folder\n",
            "00:29:23 - Chapter 24: job posting response\n",
            "00:30:24 - Chapter 25: button clean okay\n",
            "00:31:24 - Chapter 26: job jobs response\n",
            "00:32:24 - Chapter 27: code did notebook\n",
            "00:33:26 - Chapter 28: chain function install\n",
            "00:34:29 - Chapter 29: environment use variable\n",
            "00:35:33 - Chapter 30: chroma create db\n",
            "00:36:35 - Chapter 31: code created email\n",
            "00:37:35 - Chapter 32: app function project\n",
            "00:38:36 - Chapter 33: care extracting job\n",
            "00:39:37 - Chapter 34: 65 comment project\n",
            "00:40:39 - Chapter 35: friends like music\n"
          ]
        }
      ]
    },
    {
      "cell_type": "code",
      "source": [],
      "metadata": {
        "id": "Bw_qd3Llcpug"
      },
      "execution_count": null,
      "outputs": []
    }
  ]
}